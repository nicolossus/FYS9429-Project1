{
 "cells": [
  {
   "cell_type": "code",
   "execution_count": 29,
   "id": "97645f40-77c3-42d8-b1bd-84896cfd4b5a",
   "metadata": {},
   "outputs": [],
   "source": [
    "import jax\n",
    "import jax.numpy as jnp\n",
    "import jax.random as jran\n",
    "import numpy as np\n",
    "from typing import Any, Callable, Sequence\n",
    "import flax\n",
    "import flax.linen as nn"
   ]
  },
  {
   "cell_type": "code",
   "execution_count": 30,
   "id": "f48fc487-8a0b-4479-9f54-10f51fad4066",
   "metadata": {},
   "outputs": [
    {
     "name": "stdout",
     "output_type": "stream",
     "text": [
      "float32\n"
     ]
    }
   ],
   "source": [
    "a = jnp.zeros((2, 5))\n",
    "print(a.dtype)"
   ]
  },
  {
   "cell_type": "code",
   "execution_count": 3,
   "id": "17f11290-6cc6-4e74-bebf-cfb19525e928",
   "metadata": {},
   "outputs": [
    {
     "data": {
      "text/plain": [
       "{CpuDevice(id=0)}"
      ]
     },
     "execution_count": 3,
     "metadata": {},
     "output_type": "execute_result"
    }
   ],
   "source": [
    "a.devices()"
   ]
  },
  {
   "cell_type": "markdown",
   "id": "c6d98ac9-4fb1-4836-8697-b8b70f5ca357",
   "metadata": {},
   "source": [
    "## Random numbers\n",
    "\n",
    "JAX does not use a global state. Instead, random functions explicitly consume the state, which is referred to as a ``key``."
   ]
  },
  {
   "cell_type": "code",
   "execution_count": 4,
   "id": "39eaff00-d55a-4266-9bad-76f24ffa800c",
   "metadata": {},
   "outputs": [
    {
     "data": {
      "text/plain": [
       "Array([ 0, 42], dtype=uint32)"
      ]
     },
     "execution_count": 4,
     "metadata": {},
     "output_type": "execute_result"
    }
   ],
   "source": [
    "key = jran.PRNGKey(42)\n",
    "key"
   ]
  },
  {
   "cell_type": "code",
   "execution_count": 5,
   "id": "bb9c22b7-f589-45f0-9f77-e70e887249c7",
   "metadata": {},
   "outputs": [
    {
     "name": "stdout",
     "output_type": "stream",
     "text": [
      "-0.18471177\n",
      "-0.18471177\n",
      "-0.18471177\n"
     ]
    }
   ],
   "source": [
    "for _ in range(3):\n",
    "    rv = jran.normal(key)\n",
    "    print(rv)"
   ]
  },
  {
   "cell_type": "code",
   "execution_count": 6,
   "id": "9d82fff9-327a-4fc6-b0c5-38e547a626b9",
   "metadata": {},
   "outputs": [
    {
     "name": "stdout",
     "output_type": "stream",
     "text": [
      "[ 0.18693547 -1.2806505  -1.5593132 ]\n",
      "[ 0.18693547 -1.2806505  -1.5593132 ]\n"
     ]
    }
   ],
   "source": [
    "for _ in range(2):\n",
    "    rvs = jran.normal(key, shape=(3,))\n",
    "    print(rvs)"
   ]
  },
  {
   "cell_type": "markdown",
   "id": "33169596-d108-414e-889e-5f8d0d4f49bc",
   "metadata": {},
   "source": [
    "Random functions consume the key, but do not modify it. Feeding the same key to a random function will always result in the same sample being generated.\n",
    "\n",
    "**Note:** Feeding the same key to different random functions can result in correlated outputs, which is generally undesirable.\n",
    "\n",
    "In order to generate different and independent samples, you must ``split()`` the key yourself whenever you want to call a random function:"
   ]
  },
  {
   "cell_type": "code",
   "execution_count": 7,
   "id": "a4238468-0446-490d-908a-ecbb74452699",
   "metadata": {},
   "outputs": [
    {
     "name": "stdout",
     "output_type": "stream",
     "text": [
      "[-0.5675502   0.28439185 -0.9320608 ]\n",
      "[ 0.67903334 -1.220606    0.94670606]\n",
      "[-0.09680057  0.7366595   0.86116916]\n"
     ]
    }
   ],
   "source": [
    "key = jran.PRNGKey(42)\n",
    "\n",
    "for _ in range(3):\n",
    "    key, subkey = jran.split(key)\n",
    "    rvs = jran.normal(subkey, shape=(3,))\n",
    "    print(rvs)\n",
    "    # key carries over to the next iteration"
   ]
  },
  {
   "cell_type": "markdown",
   "id": "ce5dbf02-0dda-4815-b6e9-f0273cb15dd8",
   "metadata": {},
   "source": [
    "If fixed number of iterations, do all splits once:"
   ]
  },
  {
   "cell_type": "code",
   "execution_count": 8,
   "id": "392003b6-cd41-43f2-bde0-9003c8a7a967",
   "metadata": {},
   "outputs": [
    {
     "name": "stdout",
     "output_type": "stream",
     "text": [
      "[-0.04324572  0.00212434 -0.40485173]\n",
      "[-1.0068504  -0.87616897 -0.6528091 ]\n",
      "[-0.70704466  1.2879405  -0.4776387 ]\n"
     ]
    }
   ],
   "source": [
    "N = 3\n",
    "key = jran.PRNGKey(42)\n",
    "for key in jran.split(key, N):\n",
    "    rvs = jran.normal(key, shape=(3,))\n",
    "    print(rvs)"
   ]
  },
  {
   "cell_type": "markdown",
   "id": "88b468da-a609-4bd3-b2f4-dd3c6baabeab",
   "metadata": {},
   "source": [
    "Best option if iterations don't have sequential dependence: use ``vmap`` to vectorize operation:"
   ]
  },
  {
   "cell_type": "code",
   "execution_count": 9,
   "id": "cede4357-3292-47d9-bb31-f7c9a3dea03f",
   "metadata": {},
   "outputs": [
    {
     "name": "stdout",
     "output_type": "stream",
     "text": [
      "[ 1.7917308   0.6962527  -0.3863588   0.6568204   1.5387199   0.08471087\n",
      " -0.05403972 -0.6987761  -1.7351557   1.9373399 ]\n"
     ]
    }
   ],
   "source": [
    "def f(key):\n",
    "    return jran.normal(key)\n",
    "\n",
    "key = jran.PRNGKey(42)\n",
    "N = 10\n",
    "rvs = jax.vmap(f)(jran.split(key, N))\n",
    "print(rvs)"
   ]
  },
  {
   "cell_type": "markdown",
   "id": "b3545c98-71c5-4ddb-9b88-9b766f41fd1f",
   "metadata": {},
   "source": [
    "Note that in this case, we can vectorize ``jran.normal`` directly:"
   ]
  },
  {
   "cell_type": "code",
   "execution_count": 10,
   "id": "248368f4-b35c-4774-a714-d5926c301dcd",
   "metadata": {},
   "outputs": [
    {
     "name": "stdout",
     "output_type": "stream",
     "text": [
      "[ 1.7917308   0.6962527  -0.3863588   0.6568204   1.5387199   0.08471087\n",
      " -0.05403972 -0.6987761  -1.7351557   1.9373399 ]\n"
     ]
    }
   ],
   "source": [
    "rvs = jax.vmap(jran.normal)(jran.split(key, N))\n",
    "print(rvs)"
   ]
  },
  {
   "cell_type": "markdown",
   "id": "a1e646fe-e8cb-4392-b0bb-bfee3a77ee5b",
   "metadata": {},
   "source": [
    "### Small benchmark\n",
    "\n",
    "Use `block_until_ready()` in benchmarks to account for JAX’s asynchronous dispatch."
   ]
  },
  {
   "cell_type": "markdown",
   "id": "88484830-db86-49e1-8f2d-393d28abcb83",
   "metadata": {},
   "source": [
    "**Case 1a**"
   ]
  },
  {
   "cell_type": "code",
   "execution_count": 50,
   "id": "7e7a9d4b-ba93-455b-a714-863ccb272db2",
   "metadata": {},
   "outputs": [
    {
     "name": "stdout",
     "output_type": "stream",
     "text": [
      "37.8 ms ± 498 µs per loop (mean ± std. dev. of 7 runs, 10 loops each)\n"
     ]
    }
   ],
   "source": [
    "%%timeit\n",
    "N = int(1e3)\n",
    "key = jran.PRNGKey(42)\n",
    "rvs = jnp.stack([jran.normal(key) for key in jran.split(key, N)]).block_until_ready()"
   ]
  },
  {
   "cell_type": "markdown",
   "id": "96470f0a-05a5-4619-b599-77402c39cf40",
   "metadata": {},
   "source": [
    "**Case 1b**"
   ]
  },
  {
   "cell_type": "code",
   "execution_count": 51,
   "id": "46ffd947-4234-477e-9bfb-2e4ae1d0ba79",
   "metadata": {},
   "outputs": [
    {
     "name": "stdout",
     "output_type": "stream",
     "text": [
      "346 µs ± 1.05 µs per loop (mean ± std. dev. of 7 runs, 1,000 loops each)\n"
     ]
    }
   ],
   "source": [
    "%%timeit\n",
    "\n",
    "N = int(1e3)\n",
    "key = jran.PRNGKey(42)\n",
    "rvs = jax.vmap(jran.normal)(jran.split(key, N)).block_until_ready()"
   ]
  },
  {
   "cell_type": "markdown",
   "id": "64fdcf4d-0791-4bd4-9074-084db830499c",
   "metadata": {},
   "source": [
    "**Case 2a**"
   ]
  },
  {
   "cell_type": "code",
   "execution_count": 52,
   "id": "8e22dd79-b837-4da9-bdc6-4f92df718c1c",
   "metadata": {},
   "outputs": [
    {
     "name": "stdout",
     "output_type": "stream",
     "text": [
      "12.8 ms ± 25.6 µs per loop (mean ± std. dev. of 7 runs, 100 loops each)\n"
     ]
    }
   ],
   "source": [
    "%%timeit\n",
    "\n",
    "N = int(1e6)\n",
    "key = jran.PRNGKey(42)\n",
    "rvs = jax.vmap(jran.normal)(jran.split(key, N)).block_until_ready()"
   ]
  },
  {
   "cell_type": "markdown",
   "id": "6ef0ca2a-094f-498e-9bd6-38a02af3bd19",
   "metadata": {},
   "source": [
    "**Case 2b**"
   ]
  },
  {
   "cell_type": "code",
   "execution_count": 53,
   "id": "6323e7ac-5d5a-430b-96aa-0783df40ff4c",
   "metadata": {},
   "outputs": [
    {
     "name": "stdout",
     "output_type": "stream",
     "text": [
      "2.82 ms ± 27.9 µs per loop (mean ± std. dev. of 7 runs, 100 loops each)\n"
     ]
    }
   ],
   "source": [
    "%%timeit\n",
    "\n",
    "N = int(1e6)\n",
    "key = jran.PRNGKey(42)\n",
    "rvs = jran.normal(key, shape=(N,)).block_until_ready()"
   ]
  },
  {
   "cell_type": "markdown",
   "id": "6a3697de-d19b-4a63-961a-9f63579b0642",
   "metadata": {},
   "source": [
    "**Case 2c**"
   ]
  },
  {
   "cell_type": "code",
   "execution_count": 54,
   "id": "7d6fe3bb-005d-47a1-b4db-4c7725481451",
   "metadata": {},
   "outputs": [
    {
     "name": "stdout",
     "output_type": "stream",
     "text": [
      "4.91 ms ± 74.4 µs per loop (mean ± std. dev. of 7 runs, 100 loops each)\n"
     ]
    }
   ],
   "source": [
    "%%timeit\n",
    "\n",
    "N = int(1e6)\n",
    "rvs = np.random.default_rng().normal(size=N)"
   ]
  },
  {
   "cell_type": "markdown",
   "id": "01f851ff-8301-4bc3-9cfd-5a75d080ab70",
   "metadata": {},
   "source": [
    "## Gradients and autodiff"
   ]
  },
  {
   "cell_type": "code",
   "execution_count": 20,
   "id": "6dffb24a-b6aa-4747-8ab9-baaebde92ec4",
   "metadata": {},
   "outputs": [],
   "source": [
    "@jax.jit\n",
    "def sigmoid(x):\n",
    "    return 1 / (1 + jnp.exp(-x))\n",
    "\n",
    "@jax.jit\n",
    "def grad_sigmoid_exact(x):\n",
    "    s = sigmoid(x)\n",
    "    return s * (1 - s)\n",
    "\n",
    "grad_sigmoid_jax = jax.jit(jax.grad(sigmoid))"
   ]
  },
  {
   "cell_type": "code",
   "execution_count": 21,
   "id": "ca564f6c-be4a-4f8c-aecc-0a3bc60d5125",
   "metadata": {},
   "outputs": [
    {
     "name": "stdout",
     "output_type": "stream",
     "text": [
      "sigmoid(x)=Array(0.5, dtype=float32, weak_type=True)\n",
      "grad_sigmoid_exact(x)=Array(0.25, dtype=float32, weak_type=True)\n",
      "grad_sigmoid_jax(x)=Array(0.25, dtype=float32, weak_type=True)\n"
     ]
    }
   ],
   "source": [
    "x = 0.0\n",
    "\n",
    "print(f\"{sigmoid(x)=}\")\n",
    "print(f\"{grad_sigmoid_exact(x)=}\")\n",
    "print(f\"{grad_sigmoid_jax(x)=}\")"
   ]
  },
  {
   "cell_type": "markdown",
   "id": "fd0f7430-c4d1-4084-97cd-12ec97556a04",
   "metadata": {},
   "source": [
    "### Benchmark jax vs exact and jitted vs not"
   ]
  },
  {
   "cell_type": "code",
   "execution_count": 39,
   "id": "5e72fffd-1a9f-4490-bc34-40e2da5e119e",
   "metadata": {},
   "outputs": [],
   "source": [
    "N = int(1e3)\n",
    "key = jran.PRNGKey(42)\n",
    "x = jran.normal(key, (N,))"
   ]
  },
  {
   "cell_type": "markdown",
   "id": "767d974a-b978-4a42-ba27-f286994f4718",
   "metadata": {},
   "source": [
    "**No jit**"
   ]
  },
  {
   "cell_type": "code",
   "execution_count": 40,
   "id": "dc336a06-3385-48b6-8805-2fb58d9dce61",
   "metadata": {},
   "outputs": [],
   "source": [
    "def sigmoid(x):\n",
    "    return 1 / (1 + jnp.exp(-x))\n",
    "\n",
    "def grad_sigmoid_exact(x):\n",
    "    s = sigmoid(x)\n",
    "    return s * (1 - s)\n",
    "\n",
    "grad_sigmoid_jax = jax.grad(sigmoid)"
   ]
  },
  {
   "cell_type": "code",
   "execution_count": 41,
   "id": "83271b75-d477-4511-ac03-50e6b77d21ce",
   "metadata": {},
   "outputs": [
    {
     "name": "stdout",
     "output_type": "stream",
     "text": [
      "17.2 µs ± 157 ns per loop (mean ± std. dev. of 7 runs, 100,000 loops each)\n"
     ]
    }
   ],
   "source": [
    "%timeit grad_sigmoid_exact(x).block_until_ready()"
   ]
  },
  {
   "cell_type": "code",
   "execution_count": 42,
   "id": "f6d08a42-4134-42a1-aeea-d18a6b4db5ca",
   "metadata": {},
   "outputs": [
    {
     "name": "stdout",
     "output_type": "stream",
     "text": [
      "1.64 ms ± 15.8 µs per loop (mean ± std. dev. of 7 runs, 1,000 loops each)\n"
     ]
    }
   ],
   "source": [
    "%timeit jax.vmap(grad_sigmoid_jax)(x).block_until_ready()"
   ]
  },
  {
   "cell_type": "markdown",
   "id": "0ad6afe9-0b1c-48ea-a039-3a1ba92db024",
   "metadata": {},
   "source": [
    "**Jitted**\n",
    "\n",
    "JAX uses eager computations by default; if you want lazy evaluation—what's sometimes called graph mode in other packages—you can specify this by wrapping your function in `jax.jit`.\n",
    "\n",
    "Within a jit-compiled function, JAX replaces arrays with abstract tracers in order to determine the full sequence of operations in the function, and to send them all to XLA for compilation, where the operations may be rearranged or transformed by the compiler to make the overall execution more efficient."
   ]
  },
  {
   "cell_type": "code",
   "execution_count": 43,
   "id": "f621879a-84f7-438e-b52e-81fa462d5a2a",
   "metadata": {},
   "outputs": [],
   "source": [
    "@jax.jit\n",
    "def sigmoid(x):\n",
    "    return 1 / (1 + jnp.exp(-x))\n",
    "\n",
    "@jax.jit\n",
    "def grad_sigmoid_exact(x):\n",
    "    s = sigmoid(x)\n",
    "    return s * (1 - s)\n",
    "\n",
    "grad_sigmoid_jax = jax.jit(jax.grad(sigmoid))"
   ]
  },
  {
   "cell_type": "code",
   "execution_count": 44,
   "id": "d70433dd-ca03-4628-8b23-125d2f3ff419",
   "metadata": {},
   "outputs": [
    {
     "name": "stdout",
     "output_type": "stream",
     "text": [
      "2.87 µs ± 46.4 ns per loop (mean ± std. dev. of 7 runs, 100,000 loops each)\n"
     ]
    }
   ],
   "source": [
    "%timeit grad_sigmoid_exact(x).block_until_ready()"
   ]
  },
  {
   "cell_type": "code",
   "execution_count": 45,
   "id": "66521126-ceba-4724-b196-db7841dd783a",
   "metadata": {},
   "outputs": [
    {
     "name": "stdout",
     "output_type": "stream",
     "text": [
      "185 µs ± 4.05 µs per loop (mean ± std. dev. of 7 runs, 10,000 loops each)\n"
     ]
    }
   ],
   "source": [
    "%timeit jax.vmap(grad_sigmoid_jax)(x).block_until_ready()"
   ]
  },
  {
   "cell_type": "code",
   "execution_count": 57,
   "id": "6b03461a-0b62-4792-9333-cbace4b59c6a",
   "metadata": {},
   "outputs": [],
   "source": [
    "def sigmoid(x):\n",
    "    return 1 / (1 + jnp.exp(-x))\n",
    "\n",
    "grad_sigmoid_jax = jax.jit(jax.grad(sigmoid))"
   ]
  },
  {
   "cell_type": "code",
   "execution_count": 58,
   "id": "148ab1f2-464c-4c1b-bc96-7fd40467af03",
   "metadata": {},
   "outputs": [
    {
     "name": "stdout",
     "output_type": "stream",
     "text": [
      "175 µs ± 1.35 µs per loop (mean ± std. dev. of 7 runs, 10,000 loops each)\n"
     ]
    }
   ],
   "source": [
    "%timeit jax.vmap(grad_sigmoid_jax)(x).block_until_ready()"
   ]
  },
  {
   "cell_type": "code",
   "execution_count": 48,
   "id": "3be87429-c13e-4716-a9d7-da99edd8c586",
   "metadata": {},
   "outputs": [],
   "source": [
    "@jax.jit\n",
    "def sigmoid(x):\n",
    "    return 1 / (1 + jnp.exp(-x))\n",
    "\n",
    "grad_sigmoid_jax = jax.grad(sigmoid)"
   ]
  },
  {
   "cell_type": "code",
   "execution_count": 49,
   "id": "570e580f-6c60-4d9d-9b97-a562c8940a18",
   "metadata": {},
   "outputs": [
    {
     "name": "stdout",
     "output_type": "stream",
     "text": [
      "641 µs ± 1.79 µs per loop (mean ± std. dev. of 7 runs, 1,000 loops each)\n"
     ]
    }
   ],
   "source": [
    "%timeit jax.vmap(grad_sigmoid_jax)(x).block_until_ready()"
   ]
  },
  {
   "cell_type": "markdown",
   "id": "bc439e2b-2f68-4427-a368-6ba9533ad5be",
   "metadata": {},
   "source": [
    "### Convention\n",
    "\n",
    "A useful pattern is to use `numpy` for operations that should be static (i.e. done at compile-time), and use `jax.numpy` for operations that should be traced (i.e. compiled and executed at run-time).\n",
    "\n",
    "For this reason, a standard convention in JAX programs is to `import numpy as np` and `import jax.numpy as jnp` so that both interfaces are available for finer control over whether operations are performed in a static matter (with `numpy`, once at compile-time) or a traced manner (with `jax.numpy`, optimized at run-time)."
   ]
  },
  {
   "cell_type": "markdown",
   "id": "fb281286-7cfd-48e8-802b-7ed119953ab5",
   "metadata": {},
   "source": [
    "## Pytrees"
   ]
  },
  {
   "cell_type": "code",
   "execution_count": null,
   "id": "190540ad-b06e-41da-98ef-074683f2d307",
   "metadata": {},
   "outputs": [],
   "source": []
  }
 ],
 "metadata": {
  "kernelspec": {
   "display_name": "Python 3 (ipykernel)",
   "language": "python",
   "name": "python3"
  },
  "language_info": {
   "codemirror_mode": {
    "name": "ipython",
    "version": 3
   },
   "file_extension": ".py",
   "mimetype": "text/x-python",
   "name": "python",
   "nbconvert_exporter": "python",
   "pygments_lexer": "ipython3",
   "version": "3.11.7"
  }
 },
 "nbformat": 4,
 "nbformat_minor": 5
}
