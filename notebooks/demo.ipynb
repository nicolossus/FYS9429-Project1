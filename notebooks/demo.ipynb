{
 "cells": [
  {
   "cell_type": "code",
   "execution_count": null,
   "metadata": {},
   "outputs": [],
   "source": [
    "%matplotlib inline\n",
    "%config InlineBackend.figure_format = \"retina\"\n",
    "\n",
    "import copy\n",
    "import os\n",
    "import sys\n",
    "import time\n",
    "\n",
    "import jax\n",
    "import matplotlib.pyplot as plt\n",
    "import numpy as np\n",
    "import pandas as pd\n",
    "import seaborn as sns\n",
    "from helper import df_to_latex, fig_path, set_figsize, tab_path\n",
    "from rich import print\n",
    "from rich.pretty import pprint\n",
    "\n",
    "# Import code from src\n",
    "sys.path.insert(0, \"../code/\")\n",
    "# import module\n",
    "\n",
    "# Set plot and dataframe style\n",
    "sns.set(context=\"paper\", style=\"darkgrid\", rc={\"axes.facecolor\": \"0.96\"})\n",
    "\n",
    "fontsize = \"large\"\n",
    "params = {\n",
    "    \"font.family\": \"serif\",\n",
    "    \"font.sans-serif\": [\"Computer Modern\"],\n",
    "    \"axes.labelsize\": fontsize,\n",
    "    \"legend.fontsize\": fontsize,\n",
    "    \"xtick.labelsize\": fontsize,\n",
    "    \"ytick.labelsize\": fontsize,\n",
    "    \"legend.handlelength\": 2,\n",
    "}\n",
    "\n",
    "plt.rcParams.update(params)\n",
    "plt.rc(\"text\", usetex=True)\n",
    "\n",
    "pd.set_option(\"display.max_columns\", 50)\n",
    "\n",
    "jax.config.update(\"jax_enable_x64\", True)\n",
    "jax.config.update(\"jax_platform_name\", \"cpu\")"
   ]
  },
  {
   "cell_type": "code",
   "execution_count": null,
   "metadata": {},
   "outputs": [],
   "source": []
  }
 ],
 "metadata": {
  "kernelspec": {
   "display_name": "Python 3 (ipykernel)",
   "language": "python",
   "name": "python3"
  },
  "language_info": {
   "codemirror_mode": {
    "name": "ipython",
    "version": 3
   },
   "file_extension": ".py",
   "mimetype": "text/x-python",
   "name": "python",
   "nbconvert_exporter": "python",
   "pygments_lexer": "ipython3",
   "version": "3.11.7"
  }
 },
 "nbformat": 4,
 "nbformat_minor": 4
}
